{
 "cells": [
  {
   "cell_type": "markdown",
   "metadata": {},
   "source": [
    "# Lists,Loops and  Functions on Python"
   ]
  },
  {
   "cell_type": "code",
   "execution_count": 2,
   "metadata": {},
   "outputs": [
    {
     "name": "stdout",
     "output_type": "stream",
     "text": [
      "<class 'tuple'>\n",
      "('Python', 'C', 'C++', 'Java')\n"
     ]
    }
   ],
   "source": [
    "programming_languages = \"Python\",\"C\",\"C++\", \"Java\"\n",
    "print(type(programming_languages))\n",
    "print(programming_languages)\n",
    "#here we use tuple tuples cannot be changed , lists can be changed "
   ]
  },
  {
   "cell_type": "code",
   "execution_count": 19,
   "metadata": {},
   "outputs": [
    {
     "name": "stdout",
     "output_type": "stream",
     "text": [
      "[[1, 0, 0], [0, 1, 0], [0, 0, 1]]\n",
      "[1, 0, 0]\n",
      "[0, 1, 0]\n",
      "[0, 0, 1]\n"
     ]
    }
   ],
   "source": [
    "game = [ [1,0,0],\n",
    "         [0,1,0],\n",
    "         [0,0,1],\n",
    "        ]\n",
    "print(game) # it prints all the list\n",
    "for rows in game: #to print above of each one \n",
    "    print(rows)"
   ]
  },
  {
   "cell_type": "code",
   "execution_count": 6,
   "metadata": {},
   "outputs": [
    {
     "data": {
      "text/plain": [
       "[(0, 'Spring'), (1, 'Summer'), (2, 'Autumn'), (3, 'Winter')]"
      ]
     },
     "execution_count": 6,
     "metadata": {},
     "output_type": "execute_result"
    }
   ],
   "source": [
    "seasons = [\"Spring\",\"Summer\",\"Autumn\",\"Winter\"]\n",
    "list(enumerate(seasons))"
   ]
  },
  {
   "cell_type": "code",
   "execution_count": 28,
   "metadata": {},
   "outputs": [
    {
     "name": "stdout",
     "output_type": "stream",
     "text": [
      "   a  b  c \n",
      "0 [1, 0, 0]\n",
      "1 [0, 1, 0]\n",
      "2 [0, 0, 1]\n"
     ]
    }
   ],
   "source": [
    "game = [[1,0,0],\n",
    "        [0,1,0],\n",
    "        [0,0,1],\n",
    "        ]\n",
    "print(\"   a  b  c \")\n",
    "for count,rows in enumerate(game):\n",
    "    print(count,rows)\n",
    "# enumerates the list elements by starting 0 and does not affect \"rows\" variable. "
   ]
  },
  {
   "cell_type": "code",
   "execution_count": 5,
   "metadata": {},
   "outputs": [
    {
     "name": "stdout",
     "output_type": "stream",
     "text": [
      "   a  b  c \n",
      "0 [1, 0, 0]\n",
      "1 [0, 1, 0]\n",
      "2 [0, 0, 1]\n"
     ]
    }
   ],
   "source": [
    "game = [[1,0,0],\n",
    "        [0,1,0],\n",
    "        [0,0,1],\n",
    "        ]\n",
    "print(\"   a  b  c \")\n",
    "for count,rows in enumerate(game):\n",
    "    print(count,rows)"
   ]
  },
  {
   "cell_type": "code",
   "execution_count": 21,
   "metadata": {},
   "outputs": [
    {
     "name": "stdout",
     "output_type": "stream",
     "text": [
      "[10, 20, 30, 40]\n",
      "[30, 40, 50]\n",
      "[1, 2, 3]\n",
      "[4, 5, 6]\n",
      "[7, 8, 9]\n"
     ]
    }
   ],
   "source": [
    "x = [10,20,30,40,50]\n",
    "print(x[0:4]) # starts 0. element and prints 4 element\n",
    "print(x[2:]) # starts 2.element prints till end\n",
    "\n",
    "game = [[1,2,3],\n",
    "        [4,5,6],\n",
    "        [7,8,9],\n",
    "        ]\n",
    "game[0][2] #here there are list of lists , it means 2th element of 0 th list. \n",
    "for y in game:\n",
    "    print(y)"
   ]
  },
  {
   "cell_type": "code",
   "execution_count": 26,
   "metadata": {},
   "outputs": [
    {
     "name": "stdout",
     "output_type": "stream",
     "text": [
      "   a  b  c \n",
      "0 [1, 0, 0]\n",
      "1 [0, 1, 0]\n",
      "2 [0, 0, 1]\n",
      "   a  b  c \n",
      "0 [1, 0, 0]\n",
      "1 [0, 1, 0]\n",
      "2 [58, 0, 1]\n"
     ]
    }
   ],
   "source": [
    "game = [ [1,0,0],\n",
    "         [0,1,0],\n",
    "         [0,0,1],\n",
    "        ]\n",
    "def game_board():\n",
    "    print(\"   a  b  c \")\n",
    "    for count,row in enumerate(game):\n",
    "        print(count,row)\n",
    "game_board() #paranthesis is necessary to run the function\n",
    "game[2][0] = 58 \n",
    "x = game_board # we are just defining not run the function so paranthesis are not required here\n",
    "x() # again here we call the function and make it run"
   ]
  },
  {
   "cell_type": "code",
   "execution_count": 11,
   "metadata": {},
   "outputs": [
    {
     "name": "stdout",
     "output_type": "stream",
     "text": [
      "   0  1  2 \n",
      "0 [0, 0, 0]\n",
      "1 [0, 0, 0]\n",
      "2 [0, 0, 0]\n",
      "   0  1  2 \n",
      "0 [0, 0, 0]\n",
      "1 [0, 0, 0]\n",
      "2 [0, 1, 0]\n"
     ]
    }
   ],
   "source": [
    " game = [[0,0,0],\n",
    "         [0,0,0],\n",
    "         [0,0,0],\n",
    "        ]\n",
    "\n",
    "def game_board(player=0, row=0,column=0, just_display=False):\n",
    "    print(\"   0  1  2 \")\n",
    "    if not just_display: #enters this conditions when user inputs\n",
    "        game[row][column] = player #the move by the user\n",
    "    for count , row in enumerate(game):\n",
    "        print(count,row)\n",
    "\n",
    "game_board(just_display=True)#prints the initial output which has all zero.      \n",
    "game_board(player = 1,row=2,column=1)       "
   ]
  },
  {
   "cell_type": "markdown",
   "metadata": {},
   "source": [
    "# Mutability in Python"
   ]
  },
  {
   "cell_type": "code",
   "execution_count": 8,
   "metadata": {},
   "outputs": [
    {
     "name": "stdout",
     "output_type": "stream",
     "text": [
      "I want to play a game\n",
      "1430420195728\n",
      "1430420195728\n",
      "I want to play a game\n",
      "1430420195648\n",
      "just play a game\n"
     ]
    }
   ],
   "source": [
    "game = \"I want to play a game\"\n",
    "print(game)\n",
    "print(id(game))  #id is equivalent the memory address in C, it is unique\n",
    "\n",
    "def game_func():\n",
    "    global game #helps us to change global variable\n",
    "    game = \"just play a game\"\n",
    "print(id(game)) # function is not called yet\n",
    "print(game)\n",
    "game_func()\n",
    "print(id(game)) # since we change global variable in the function\n",
    "print(game)"
   ]
  },
  {
   "cell_type": "markdown",
   "metadata": {},
   "source": [
    "# Using return on functions\n"
   ]
  },
  {
   "cell_type": "code",
   "execution_count": 12,
   "metadata": {},
   "outputs": [
    {
     "name": "stdout",
     "output_type": "stream",
     "text": [
      "None\n"
     ]
    }
   ],
   "source": [
    "def no_return(x,y):\n",
    "    c = x + y\n",
    "# no_return function does not return anything    \n",
    "    \n",
    "res = no_return(4,5)\n",
    "print(res)"
   ]
  },
  {
   "cell_type": "code",
   "execution_count": 10,
   "metadata": {},
   "outputs": [
    {
     "name": "stdout",
     "output_type": "stream",
     "text": [
      "9\n"
     ]
    }
   ],
   "source": [
    "def no_return(x,y):\n",
    "    c = x + y\n",
    "    return c #function returns c value here\n",
    "    \n",
    "res = no_return(4,5)\n",
    "print(res)"
   ]
  },
  {
   "cell_type": "code",
   "execution_count": 24,
   "metadata": {},
   "outputs": [
    {
     "name": "stdout",
     "output_type": "stream",
     "text": [
      "   0  1  2 \n",
      "0 [0, 0, 0]\n",
      "1 [0, 0, 0]\n",
      "2 [0, 0, 0]\n",
      "   0  1  2 \n",
      "0 [0, 0, 0]\n",
      "1 [0, 0, 0]\n",
      "2 [0, 1, 0]\n"
     ]
    },
    {
     "data": {
      "text/plain": [
       "[[0, 0, 0], [0, 0, 0], [0, 1, 0]]"
      ]
     },
     "execution_count": 24,
     "metadata": {},
     "output_type": "execute_result"
    }
   ],
   "source": [
    "# That program must be runned in PyCharm there is different output here last output shouldnt exist\n",
    "game = [ [0,0,0],\n",
    "         [0,0,0],\n",
    "         [0,0,0],\n",
    "        ]\n",
    "\n",
    "def game_board(game_now,player=0, row=0,column=0, just_display=False):\n",
    "    print(\"   0  1  2 \")\n",
    "    if not just_display: #enters this conditions when user inputs\n",
    "        game_now[row][column] = player #the move by the user\n",
    "    for count , row in enumerate(game_now):\n",
    "        print(count,row) \n",
    "    return game_now \n",
    "\n",
    "game_board(game,just_display=True)\n",
    "game_board(game,player = 1,row=2,column=1)"
   ]
  },
  {
   "cell_type": "code",
   "execution_count": 27,
   "metadata": {},
   "outputs": [
    {
     "name": "stdout",
     "output_type": "stream",
     "text": [
      "1\n",
      "2\n",
      "[1]\n",
      "[2]\n",
      "[2, 5, 1]\n"
     ]
    }
   ],
   "source": [
    "x = 1\n",
    "def test():\n",
    "    x = 2\n",
    "test()\n",
    "print(x) # To change global variable we must write global x\n",
    "\n",
    "\n",
    "x = 1\n",
    "def test():\n",
    "    global x\n",
    "    x = 2\n",
    "test()\n",
    "print(x) # global variable changed in the function\n",
    "\n",
    "\n",
    "x = [1]\n",
    "def test():\n",
    "    x = [2]\n",
    "test()\n",
    "print(x) # again global variable is not changed\n",
    "\n",
    "\n",
    "x = [1]\n",
    "def test():\n",
    "    global x\n",
    "    x = [2]\n",
    "test()\n",
    "print(x) #[2] due to global x definition\n",
    "\n",
    "\n",
    "x = [4,5,1]\n",
    "def test():\n",
    "    x[0] = 2\n",
    "test()\n",
    "print(x) # it is the proof of that elements of lists can be changed by not writing global x here."
   ]
  },
  {
   "cell_type": "markdown",
   "metadata": {},
   "source": [
    "# Error Handling in Python"
   ]
  },
  {
   "cell_type": "code",
   "execution_count": 7,
   "metadata": {},
   "outputs": [
    {
     "name": "stdout",
     "output_type": "stream",
     "text": [
      "   0  1  2 \n",
      "0 [0, 0, 0]\n",
      "1 [0, 0, 0]\n",
      "2 [0, 0, 0]\n",
      "   0  1  2 \n",
      "Something went really wrong! 'function' object is not subscriptable\n"
     ]
    }
   ],
   "source": [
    "game = [ [0,0,0],\n",
    "         [0,0,0],\n",
    "         [0,0,0],\n",
    "        ]\n",
    "\n",
    "def game_board(game_now,player=0, row=0,column=0, just_display=False):\n",
    "    try: # program will try using the function assignments, if user enters invalid input , program shows error message by except\n",
    "        print(\"   0  1  2 \")\n",
    "        if not just_display: #enters this conditions when user inputs\n",
    "            game_now[row][column] = player #the move by the user\n",
    "        for count , row in enumerate(game_now):\n",
    "            print(count,row) \n",
    "        return game_now \n",
    "    except IndexError as e: #invalid user input condition \n",
    "        print(\"Error: make sure that you entered 0,1 or 2\",e)\n",
    "    except Exception as e:\n",
    "        print(\"Something went really wrong!\",e)\n",
    "game_board(game,just_display=True)\n",
    "game_board(game_board,player = 1,row=3,column=1) \n",
    "#write game instead of game_board to observe the other error\n",
    "\n",
    "# there is no row=3 instead of showing the error , program says make sure that you entered 0,1 or 2\n",
    "# when game_board is entered which does not exist , program says Something went really wrong!"
   ]
  },
  {
   "cell_type": "code",
   "execution_count": 13,
   "metadata": {},
   "outputs": [
    {
     "name": "stdout",
     "output_type": "stream",
     "text": [
      "[2, 2, 0]\n",
      "[2, 2, 2]\n",
      "winner\n",
      "[0, 1, 2]\n"
     ]
    }
   ],
   "source": [
    "game = [[2,2,0],\n",
    "        [2,2,2],\n",
    "        [0,1,2],]\n",
    "\n",
    "def win (current_game):\n",
    "    for row in game:\n",
    "        print(row)\n",
    "        all_match = True\n",
    "        for item in row:\n",
    "            if item!= row[0]:\n",
    "                all_match = False\n",
    "        if all_match:\n",
    "            print(\"winner\")\n",
    "win(game)\n",
    "\n",
    "# here the code compares the row elements (horizontal)  \n",
    "# and decides if they are equal, prints winner if they re equal\n",
    "# it is just horizontal tic tac toe program"
   ]
  },
  {
   "cell_type": "markdown",
   "metadata": {},
   "source": [
    "# Checking if the horizontal elements are the same"
   ]
  },
  {
   "cell_type": "code",
   "execution_count": 16,
   "metadata": {},
   "outputs": [
    {
     "name": "stdout",
     "output_type": "stream",
     "text": [
      "[2, 2, 0]\n",
      "[2, 2, 2]\n",
      "Winner!\n",
      "[0, 1, 2]\n"
     ]
    }
   ],
   "source": [
    "game = [[2,2,0],\n",
    "        [2,2,2],\n",
    "        [0,1,2],]\n",
    "\n",
    "\n",
    "def win(current_game):\n",
    "    for row in game:\n",
    "        print(row)\n",
    "        if row.count(row[0]) == len(row) and row[0] != 0:\n",
    "            print(\"Winner!\")\n",
    "win(game) \n",
    "\n",
    "#x.count(x[0]) == len(x) is a special function to compare elements of row"
   ]
  },
  {
   "cell_type": "markdown",
   "metadata": {},
   "source": [
    "# Checking if the vertical elements are the same"
   ]
  },
  {
   "cell_type": "code",
   "execution_count": 2,
   "metadata": {},
   "outputs": [
    {
     "name": "stdout",
     "output_type": "stream",
     "text": [
      "[2]\n",
      "[2, 2]\n",
      "[2, 2, 1]\n",
      "[1]\n",
      "[1, 1]\n",
      "[1, 1, 1]\n",
      "Winner!\n",
      "[1]\n",
      "[1, 2]\n",
      "[1, 2, 1]\n"
     ]
    }
   ],
   "source": [
    "game = [[2,1,1],\n",
    "        [2,1,2],\n",
    "        [1,1,1],\n",
    "        ]\n",
    "\n",
    "for col in range(len(game)): # it is like a basic for loop starts counting 0 to 3\n",
    "    check = [] # it is for assigning column elements and check if they are the same.\n",
    "    for row in game: # adds row elements to check one by one\n",
    "        check.append(row[col]) # adds first elements of row to check list.after second and third\n",
    "        print(check)\n",
    "    if check.count(check[0])== len(check) and check[0] !=0: # controls if check has same elements to decide if game is won\n",
    "        print(\"Winner!\")"
   ]
  },
  {
   "cell_type": "markdown",
   "metadata": {},
   "source": [
    "# Checking if the diagonal elements are the same"
   ]
  },
  {
   "cell_type": "code",
   "execution_count": 10,
   "metadata": {},
   "outputs": [
    {
     "name": "stdout",
     "output_type": "stream",
     "text": [
      "[1]\n",
      "[1, 1]\n",
      "[1, 1, 1]\n",
      "Winner!\n"
     ]
    }
   ],
   "source": [
    "game = [[1,2,1],\n",
    "        [2,1,2],\n",
    "        [2,1,1],\n",
    "        ]\n",
    "\n",
    "diag = []\n",
    "\n",
    "for ix in range(len(game)):\n",
    "    diag.append(game[ix][ix])\n",
    "    print(diag)\n",
    "if diag.count(diag[0]) == len(diag) and diag[0] != 0:\n",
    "       print(\"Winner!\")    "
   ]
  },
  {
   "cell_type": "code",
   "execution_count": 3,
   "metadata": {},
   "outputs": [
    {
     "name": "stdout",
     "output_type": "stream",
     "text": [
      "2 0\n",
      "[1]\n",
      "1 1\n",
      "[1, 1]\n",
      "0 2\n",
      "[1, 1, 1]\n",
      "Winner!\n"
     ]
    }
   ],
   "source": [
    "#as seen below , we can use enumerate instead of zip here\n",
    "game = [[1,2,1],\n",
    "        [2,1,2],\n",
    "        [1,1,1],\n",
    "        ]\n",
    "\n",
    "cols = reversed(range(len(game)))\n",
    "rows = range(len(game))\n",
    "diag = []\n",
    "for col,row in zip(cols,rows):\n",
    "    print(col,row)\n",
    "    diag.append(game[row][col])\n",
    "    print(diag)\n",
    "\n",
    "if diag.count(diag[0]) == len(diag) and diag[0] != 0:\n",
    "       print(\"Winner!\")"
   ]
  },
  {
   "cell_type": "code",
   "execution_count": 8,
   "metadata": {},
   "outputs": [
    {
     "name": "stdout",
     "output_type": "stream",
     "text": [
      "0 2\n",
      "[1]\n",
      "1 1\n",
      "[1, 1]\n",
      "2 0\n",
      "[1, 1, 1]\n",
      "Winner!\n"
     ]
    }
   ],
   "source": [
    "\n",
    "\n",
    "game = [[1,2,1],\n",
    "        [2,1,2],\n",
    "        [1,1,1],\n",
    "        ]\n",
    "\n",
    "diag = []\n",
    "for col,row in enumerate(reversed(range(len(game)))):\n",
    "    print(col,row)\n",
    "    diag.append(game[row][col])\n",
    "    print(diag)\n",
    "\n",
    "if diag.count(diag[0]) == len(diag) and diag[0] != 0:\n",
    "        print(\"Winner!\")"
   ]
  },
  {
   "cell_type": "code",
   "execution_count": 11,
   "metadata": {},
   "outputs": [
    {
     "name": "stdout",
     "output_type": "stream",
     "text": [
      "2\n",
      "3\n",
      "4\n"
     ]
    }
   ],
   "source": [
    "#this code make us jump to next element every time\n",
    "import itertools\n",
    "\n",
    "x = [1,2,3,4] # iterable\n",
    "\n",
    "n= itertools.cycle(x) # iterator also iterable\n",
    "\n",
    "y= iter(x)# iterator also iterable\n",
    "\n",
    "next(y) #makes y = 2 \n",
    "\n",
    "for i in y:\n",
    "    print(i)\n",
    "for i in y:\n",
    "    print(i)\n"
   ]
  },
  {
   "cell_type": "code",
   "execution_count": 12,
   "metadata": {},
   "outputs": [
    {
     "name": "stdout",
     "output_type": "stream",
     "text": [
      "   0  1  2\n",
      "   0  1  2\n"
     ]
    }
   ],
   "source": [
    "# Here we want to display 0 1 2 \n",
    "game_size = 3\n",
    "print(\"   0  1  2\")\n",
    "s = \"   \"+\"  \".join([str(i) for i in range(game_size)])\n",
    "# here it can be printed by two ways as shown\n",
    "print(s)"
   ]
  },
  {
   "cell_type": "code",
   "execution_count": 18,
   "metadata": {},
   "outputs": [
    {
     "name": "stdout",
     "output_type": "stream",
     "text": [
      "15\n",
      "{'key1': 15, 'key2': 32, 'hithere': 92}\n"
     ]
    }
   ],
   "source": [
    "# dictionaries \n",
    "\n",
    "dictionaries = {\"key1\":15,\"key2\":32}\n",
    "print(dictionaries[\"key1\"])\n",
    "dictionaries[\"hithere\"] = 92\n",
    "print(dictionaries)\n",
    "\n"
   ]
  },
  {
   "cell_type": "code",
   "execution_count": 20,
   "metadata": {},
   "outputs": [
    {
     "name": "stdout",
     "output_type": "stream",
     "text": [
      "What size of tic tac toe do you want to play?:3\n",
      "[[0, 0, 0], [0, 0, 0], [0, 0, 0]]\n"
     ]
    }
   ],
   "source": [
    "game_size = int(input(\"What size of tic tac toe do you want to play?:\"))\n",
    "game = [[0 for i in range(game_size)] for i in range(game_size)]\n",
    "print(game)"
   ]
  },
  {
   "cell_type": "code",
   "execution_count": null,
   "metadata": {},
   "outputs": [
    {
     "name": "stdout",
     "output_type": "stream",
     "text": [
      "   0  1  2\n",
      "0       \n",
      "1       \n",
      "2       \n",
      "Current player:1\n",
      "What column do you want to play? (0,1,2):0\n",
      "What row do you want to play? (0,1,2):0\n",
      "   0  1  2\n",
      "0  X     \n",
      "1       \n",
      "2       \n",
      "Current player:2\n",
      "What column do you want to play? (0,1,2):1\n",
      "What row do you want to play? (0,1,2):1\n",
      "   0  1  2\n",
      "0  X     \n",
      "1    O   \n",
      "2       \n",
      "Current player:1\n"
     ]
    }
   ],
   "source": [
    "# Please copy this code to any compiler to see damn colours \n",
    "\n",
    "import itertools\n",
    "from colorama import Fore,Back,Style,init\n",
    "init()\n",
    "def win(current_game):\n",
    "    def all_same(l):\n",
    "        if l.count(l[0]) == len(l) and l[0] != 0:\n",
    "            return True\n",
    "        else:\n",
    "            return False\n",
    "\n",
    "    for row in game:\n",
    "        #print(row)\n",
    "        if all_same(row):\n",
    "            print(f\"Player {row[0]} is the Winner,horizontally!\")\n",
    "            return True\n",
    "\n",
    "        diag = []\n",
    "        for col, row in enumerate(reversed(range(len(game)))):\n",
    "            diag.append(game[row][col])\n",
    "        if all_same(diag):\n",
    "            print(f\"Player {diag[0]} is the winner diagonally(/)!\")\n",
    "            return True\n",
    "\n",
    "    diag = []\n",
    "\n",
    "    for ix in range(len(game)):\n",
    "        diag.append(game[ix][ix])\n",
    "        #print(diag)\n",
    "    if all_same(diag):\n",
    "        print(f\"Player {diag[0]} is the Winner,diagonally  (\\\\)!\")\n",
    "        return True\n",
    "\n",
    "    for col in range(len(game)):  # it is like a basic for loop starts counting 0 to 3\n",
    "        check = []  # it is for assigning column elements and check if they are the same.\n",
    "        for row in game:  # adds row elements to check one by one\n",
    "            check.append(row[col])  # adds first elements of row to check list.after second and third\n",
    "        if all_same(check) : # controls if check has same elements to decide if game is won\n",
    "            print(f\"Player {check[0]} is the winner verticially!\")\n",
    "            return True\n",
    "    return False\n",
    "\n",
    "\n",
    "def game_board(game_map,player=0, row=0,column=0, just_display=False):\n",
    "    try:# program will try using the function assignments, if user enters invalid input , program shows error message by except7\n",
    "        if game_map[row][column] != 0:\n",
    "            print(\"This position is occupado! Choose another!\")\n",
    "            return game_map,False\n",
    "        print(\"   \"+\"  \".join([str(i) for i in range(len(game_map))]))\n",
    "        if not just_display: #enters this conditions when user inputs\n",
    "            game_map[row][column] = player #the move by the user\n",
    "        for count , row in enumerate(game_map):\n",
    "            colored_row =\"\"\n",
    "            for item in row:\n",
    "                if item ==0:\n",
    "                    colored_row += \"  \"\n",
    "                elif item ==1 :\n",
    "                    colored_row += Fore.GREEN + ' X ' + Style.RESET_ALL\n",
    "                elif item ==2 :\n",
    "                    colored_row += Fore.MAGENTA + ' O ' + Style.RESET_ALL\n",
    "            print(count,colored_row)\n",
    "\n",
    "\n",
    "        return game_map,True\n",
    "\n",
    "    except IndexError as e: #invalid user input condition\n",
    "        print(\"Error: make sure that you entered 0,1 or 2\",e)\n",
    "        return game_map,False\n",
    "    except Exception as e:\n",
    "        print(\"Something went really wrong!\",e)\n",
    "        return game_map,False\n",
    "play= True\n",
    "players = [1,2]\n",
    "while play:\n",
    "    game = [[0, 0, 0],\n",
    "            [0, 0, 0],\n",
    "            [0, 0, 0],\n",
    "            ]\n",
    "    game_won = False\n",
    "    game, _ = game_board(game,just_display=True)\n",
    "    player_choice = itertools.cycle([1,2])\n",
    "    while not game_won:\n",
    "        current_player = next(player_choice)\n",
    "        print(f\"Current player:{current_player}\")\n",
    "        played = False\n",
    "\n",
    "        while not played:\n",
    "            column_choice = int(input(\"What column do you want to play? (0,1,2):\"))\n",
    "            row_choice = int(input(\"What row do you want to play? (0,1,2):\"))\n",
    "            game,played = game_board(game,current_player,row_choice,column_choice)\n",
    "        if win(game):\n",
    "            game_won = True\n",
    "            again = input(\"The game is over would you like to play again? (y/n)\")\n",
    "            if again.lower() == \"y\":\n",
    "                print(\"restarting\")\n",
    "            elif again.lower() == \"n\":\n",
    "                print(\"Bye then\")\n",
    "                play = False\n",
    "            else :\n",
    "                print(\"Invalid answer see you later\")\n",
    "                play = False\n",
    "\n",
    "\n",
    "\n",
    "\n"
   ]
  },
  {
   "cell_type": "code",
   "execution_count": null,
   "metadata": {},
   "outputs": [],
   "source": []
  }
 ],
 "metadata": {
  "kernelspec": {
   "display_name": "Python 3",
   "language": "python",
   "name": "python3"
  },
  "language_info": {
   "codemirror_mode": {
    "name": "ipython",
    "version": 3
   },
   "file_extension": ".py",
   "mimetype": "text/x-python",
   "name": "python",
   "nbconvert_exporter": "python",
   "pygments_lexer": "ipython3",
   "version": "3.7.6"
  }
 },
 "nbformat": 4,
 "nbformat_minor": 4
}
